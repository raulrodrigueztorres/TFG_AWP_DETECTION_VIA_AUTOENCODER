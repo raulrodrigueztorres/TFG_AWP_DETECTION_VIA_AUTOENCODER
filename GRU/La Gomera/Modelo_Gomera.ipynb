{
 "cells": [
  {
   "cell_type": "markdown",
   "id": "demographic-burton",
   "metadata": {},
   "source": [
    "## Import Libraries "
   ]
  },
  {
   "cell_type": "code",
   "execution_count": 1,
   "id": "extraordinary-active",
   "metadata": {},
   "outputs": [],
   "source": [
    "import os\n",
    "import pandas as pd\n",
    "import numpy as np\n",
    "import seaborn as sns\n",
    "import matplotlib.pyplot as plt\n",
    "import tensorflow as tf\n",
    "import time \n",
    "import joblib\n",
    "import logging\n",
    "import math\n",
    "import pickle\n",
    "\n",
    "from pandas import DataFrame\n",
    "from sklearn.preprocessing import MinMaxScaler\n",
    "from numpy.random import seed\n",
    "from keras.callbacks import EarlyStopping\n",
    "from keras.layers import Input, Dropout, Dense, LSTM, GRU, RNN, TimeDistributed, RepeatVector\n",
    "from keras.models import Model\n",
    "from keras import regularizers\n",
    "from sklearn.metrics import accuracy_score, precision_score, recall_score\n",
    "from sklearn.metrics import confusion_matrix, precision_recall_curve, cohen_kappa_score, fbeta_score\n",
    "from sklearn.metrics import recall_score, classification_report, auc, roc_curve, log_loss\n",
    "from pylab import rcParams"
   ]
  },
  {
   "cell_type": "code",
   "execution_count": 2,
   "id": "complete-gather",
   "metadata": {},
   "outputs": [],
   "source": [
    "sns.set(color_codes = True)\n",
    "rcParams['figure.figsize'] = 14, 8.7\n",
    "col_list = ['cerulean', 'scarlet']\n",
    "sns.set(style = 'white', font_scale = 1.75, palette = sns.xkcd_palette(col_list))\n",
    "%matplotlib inline\n",
    "tf.random.set_seed(123)\n",
    "seed(123)\n",
    "logger = tf.get_logger()\n",
    "logger.setLevel(logging.ERROR)\n",
    "LABELS = ['Normal', 'FMA']"
   ]
  },
  {
   "cell_type": "markdown",
   "id": "divine-short",
   "metadata": {},
   "source": [
    "## GPU "
   ]
  },
  {
   "cell_type": "code",
   "execution_count": 3,
   "id": "maritime-transsexual",
   "metadata": {},
   "outputs": [
    {
     "name": "stdout",
     "output_type": "stream",
     "text": [
      "1 Physical GPUs 1 Logical GPUs\n"
     ]
    }
   ],
   "source": [
    "gpus = tf.config.experimental.list_physical_devices('GPU')\n",
    "if gpus: \n",
    "    try:\n",
    "        for gpu in gpus:\n",
    "            tf.config.experimental.set_memory_growth(gpu, True)\n",
    "        logical_gpus = tf.config.experimental.list_logical_devices('GPU')\n",
    "        print(len(gpus), \"Physical GPUs\", len(logical_gpus), \"Logical GPUs\")\n",
    "    except RuntimeError as e:\n",
    "        print(e)\n",
    "else:\n",
    "    print('No GPUs detected')"
   ]
  },
  {
   "cell_type": "markdown",
   "id": "minor-version",
   "metadata": {},
   "source": [
    "## Load Datas"
   ]
  },
  {
   "cell_type": "code",
   "execution_count": 4,
   "id": "consecutive-failing",
   "metadata": {},
   "outputs": [],
   "source": [
    "data = pd.read_csv('../../Datasets/Dataset_Gomera_Labeled.csv', sep = ';')"
   ]
  },
  {
   "cell_type": "code",
   "execution_count": 5,
   "id": "architectural-meaning",
   "metadata": {},
   "outputs": [
    {
     "data": {
      "text/html": [
       "<div>\n",
       "<style scoped>\n",
       "    .dataframe tbody tr th:only-of-type {\n",
       "        vertical-align: middle;\n",
       "    }\n",
       "\n",
       "    .dataframe tbody tr th {\n",
       "        vertical-align: top;\n",
       "    }\n",
       "\n",
       "    .dataframe thead th {\n",
       "        text-align: right;\n",
       "    }\n",
       "</style>\n",
       "<table border=\"1\" class=\"dataframe\">\n",
       "  <thead>\n",
       "    <tr style=\"text-align: right;\">\n",
       "      <th></th>\n",
       "      <th>temp_max</th>\n",
       "      <th>temp_avg</th>\n",
       "      <th>temp_min</th>\n",
       "      <th>prec</th>\n",
       "      <th>wd</th>\n",
       "      <th>ws</th>\n",
       "      <th>atmos_pres_avg</th>\n",
       "      <th>atmos_pres_min</th>\n",
       "      <th>atmos_pres_max</th>\n",
       "      <th>rh</th>\n",
       "      <th>ceil_hgt</th>\n",
       "      <th>visibility</th>\n",
       "      <th>FMA</th>\n",
       "    </tr>\n",
       "  </thead>\n",
       "  <tbody>\n",
       "    <tr>\n",
       "      <th>0</th>\n",
       "      <td>22.963965</td>\n",
       "      <td>20.99</td>\n",
       "      <td>18.195237</td>\n",
       "      <td>0.0</td>\n",
       "      <td>70.0</td>\n",
       "      <td>5.1</td>\n",
       "      <td>1018.41</td>\n",
       "      <td>1017.506667</td>\n",
       "      <td>1019.283937</td>\n",
       "      <td>65.70</td>\n",
       "      <td>19572.73</td>\n",
       "      <td>26000.0</td>\n",
       "      <td>0</td>\n",
       "    </tr>\n",
       "    <tr>\n",
       "      <th>1</th>\n",
       "      <td>22.963965</td>\n",
       "      <td>20.99</td>\n",
       "      <td>18.195237</td>\n",
       "      <td>0.0</td>\n",
       "      <td>110.0</td>\n",
       "      <td>17.0</td>\n",
       "      <td>1018.41</td>\n",
       "      <td>1017.506667</td>\n",
       "      <td>1019.283937</td>\n",
       "      <td>65.70</td>\n",
       "      <td>60.00</td>\n",
       "      <td>1000.0</td>\n",
       "      <td>0</td>\n",
       "    </tr>\n",
       "    <tr>\n",
       "      <th>2</th>\n",
       "      <td>22.963965</td>\n",
       "      <td>20.99</td>\n",
       "      <td>18.195237</td>\n",
       "      <td>0.0</td>\n",
       "      <td>70.0</td>\n",
       "      <td>5.1</td>\n",
       "      <td>1018.41</td>\n",
       "      <td>1017.506667</td>\n",
       "      <td>1019.283937</td>\n",
       "      <td>65.70</td>\n",
       "      <td>240.00</td>\n",
       "      <td>3300.0</td>\n",
       "      <td>0</td>\n",
       "    </tr>\n",
       "    <tr>\n",
       "      <th>3</th>\n",
       "      <td>24.400000</td>\n",
       "      <td>24.40</td>\n",
       "      <td>24.400000</td>\n",
       "      <td>0.0</td>\n",
       "      <td>20.0</td>\n",
       "      <td>5.1</td>\n",
       "      <td>1016.40</td>\n",
       "      <td>1016.400000</td>\n",
       "      <td>1016.400000</td>\n",
       "      <td>60.30</td>\n",
       "      <td>22000.00</td>\n",
       "      <td>10000.0</td>\n",
       "      <td>0</td>\n",
       "    </tr>\n",
       "    <tr>\n",
       "      <th>4</th>\n",
       "      <td>22.963965</td>\n",
       "      <td>20.99</td>\n",
       "      <td>18.195237</td>\n",
       "      <td>0.0</td>\n",
       "      <td>110.0</td>\n",
       "      <td>5.1</td>\n",
       "      <td>1018.41</td>\n",
       "      <td>1017.506667</td>\n",
       "      <td>1019.283937</td>\n",
       "      <td>65.70</td>\n",
       "      <td>60.00</td>\n",
       "      <td>1000.0</td>\n",
       "      <td>0</td>\n",
       "    </tr>\n",
       "    <tr>\n",
       "      <th>...</th>\n",
       "      <td>...</td>\n",
       "      <td>...</td>\n",
       "      <td>...</td>\n",
       "      <td>...</td>\n",
       "      <td>...</td>\n",
       "      <td>...</td>\n",
       "      <td>...</td>\n",
       "      <td>...</td>\n",
       "      <td>...</td>\n",
       "      <td>...</td>\n",
       "      <td>...</td>\n",
       "      <td>...</td>\n",
       "      <td>...</td>\n",
       "    </tr>\n",
       "    <tr>\n",
       "      <th>4786</th>\n",
       "      <td>24.800000</td>\n",
       "      <td>23.12</td>\n",
       "      <td>21.600000</td>\n",
       "      <td>0.0</td>\n",
       "      <td>124.0</td>\n",
       "      <td>4.6</td>\n",
       "      <td>1018.90</td>\n",
       "      <td>1018.100000</td>\n",
       "      <td>1019.900000</td>\n",
       "      <td>26.22</td>\n",
       "      <td>19572.73</td>\n",
       "      <td>42500.0</td>\n",
       "      <td>0</td>\n",
       "    </tr>\n",
       "    <tr>\n",
       "      <th>4787</th>\n",
       "      <td>24.800000</td>\n",
       "      <td>22.50</td>\n",
       "      <td>20.800000</td>\n",
       "      <td>0.0</td>\n",
       "      <td>132.0</td>\n",
       "      <td>5.1</td>\n",
       "      <td>1018.98</td>\n",
       "      <td>1018.100000</td>\n",
       "      <td>1020.000000</td>\n",
       "      <td>29.24</td>\n",
       "      <td>19572.73</td>\n",
       "      <td>36250.0</td>\n",
       "      <td>0</td>\n",
       "    </tr>\n",
       "    <tr>\n",
       "      <th>4788</th>\n",
       "      <td>23.400000</td>\n",
       "      <td>22.62</td>\n",
       "      <td>21.100000</td>\n",
       "      <td>0.0</td>\n",
       "      <td>64.0</td>\n",
       "      <td>6.7</td>\n",
       "      <td>1020.14</td>\n",
       "      <td>1019.200000</td>\n",
       "      <td>1021.200000</td>\n",
       "      <td>28.50</td>\n",
       "      <td>22000.00</td>\n",
       "      <td>48750.0</td>\n",
       "      <td>0</td>\n",
       "    </tr>\n",
       "    <tr>\n",
       "      <th>4789</th>\n",
       "      <td>24.700000</td>\n",
       "      <td>23.06</td>\n",
       "      <td>22.000000</td>\n",
       "      <td>0.0</td>\n",
       "      <td>58.0</td>\n",
       "      <td>6.2</td>\n",
       "      <td>1023.26</td>\n",
       "      <td>1021.900000</td>\n",
       "      <td>1024.500000</td>\n",
       "      <td>19.46</td>\n",
       "      <td>22000.00</td>\n",
       "      <td>55000.0</td>\n",
       "      <td>0</td>\n",
       "    </tr>\n",
       "    <tr>\n",
       "      <th>4790</th>\n",
       "      <td>21.100000</td>\n",
       "      <td>20.06</td>\n",
       "      <td>18.800000</td>\n",
       "      <td>0.0</td>\n",
       "      <td>146.0</td>\n",
       "      <td>4.1</td>\n",
       "      <td>1024.60</td>\n",
       "      <td>1023.800000</td>\n",
       "      <td>1026.100000</td>\n",
       "      <td>48.80</td>\n",
       "      <td>22000.00</td>\n",
       "      <td>45000.0</td>\n",
       "      <td>0</td>\n",
       "    </tr>\n",
       "  </tbody>\n",
       "</table>\n",
       "<p>4791 rows × 13 columns</p>\n",
       "</div>"
      ],
      "text/plain": [
       "       temp_max  temp_avg   temp_min  prec     wd    ws  atmos_pres_avg  \\\n",
       "0     22.963965     20.99  18.195237   0.0   70.0   5.1         1018.41   \n",
       "1     22.963965     20.99  18.195237   0.0  110.0  17.0         1018.41   \n",
       "2     22.963965     20.99  18.195237   0.0   70.0   5.1         1018.41   \n",
       "3     24.400000     24.40  24.400000   0.0   20.0   5.1         1016.40   \n",
       "4     22.963965     20.99  18.195237   0.0  110.0   5.1         1018.41   \n",
       "...         ...       ...        ...   ...    ...   ...             ...   \n",
       "4786  24.800000     23.12  21.600000   0.0  124.0   4.6         1018.90   \n",
       "4787  24.800000     22.50  20.800000   0.0  132.0   5.1         1018.98   \n",
       "4788  23.400000     22.62  21.100000   0.0   64.0   6.7         1020.14   \n",
       "4789  24.700000     23.06  22.000000   0.0   58.0   6.2         1023.26   \n",
       "4790  21.100000     20.06  18.800000   0.0  146.0   4.1         1024.60   \n",
       "\n",
       "      atmos_pres_min  atmos_pres_max     rh  ceil_hgt  visibility  FMA  \n",
       "0        1017.506667     1019.283937  65.70  19572.73     26000.0    0  \n",
       "1        1017.506667     1019.283937  65.70     60.00      1000.0    0  \n",
       "2        1017.506667     1019.283937  65.70    240.00      3300.0    0  \n",
       "3        1016.400000     1016.400000  60.30  22000.00     10000.0    0  \n",
       "4        1017.506667     1019.283937  65.70     60.00      1000.0    0  \n",
       "...              ...             ...    ...       ...         ...  ...  \n",
       "4786     1018.100000     1019.900000  26.22  19572.73     42500.0    0  \n",
       "4787     1018.100000     1020.000000  29.24  19572.73     36250.0    0  \n",
       "4788     1019.200000     1021.200000  28.50  22000.00     48750.0    0  \n",
       "4789     1021.900000     1024.500000  19.46  22000.00     55000.0    0  \n",
       "4790     1023.800000     1026.100000  48.80  22000.00     45000.0    0  \n",
       "\n",
       "[4791 rows x 13 columns]"
      ]
     },
     "execution_count": 5,
     "metadata": {},
     "output_type": "execute_result"
    }
   ],
   "source": [
    "data"
   ]
  },
  {
   "cell_type": "code",
   "execution_count": 6,
   "id": "eligible-satisfaction",
   "metadata": {},
   "outputs": [],
   "source": [
    "train = data[0:math.trunc(len(data) * 0.8)]\n",
    "test = data[math.trunc(len(data) * 0.8):len(data)]"
   ]
  },
  {
   "cell_type": "code",
   "execution_count": 7,
   "id": "mobile-battlefield",
   "metadata": {},
   "outputs": [
    {
     "name": "stdout",
     "output_type": "stream",
     "text": [
      "(4791, 13)\n",
      "(3832, 13)\n",
      "(959, 13)\n",
      "4791\n"
     ]
    }
   ],
   "source": [
    "print(data.shape)\n",
    "print(train.shape)\n",
    "print(test.shape)\n",
    "print(train.shape[0] + test.shape[0])"
   ]
  },
  {
   "cell_type": "markdown",
   "id": "expressed-wildlife",
   "metadata": {},
   "source": [
    "## FMA Filter "
   ]
  },
  {
   "cell_type": "code",
   "execution_count": 8,
   "id": "undefined-source",
   "metadata": {},
   "outputs": [
    {
     "data": {
      "text/html": [
       "<div>\n",
       "<style scoped>\n",
       "    .dataframe tbody tr th:only-of-type {\n",
       "        vertical-align: middle;\n",
       "    }\n",
       "\n",
       "    .dataframe tbody tr th {\n",
       "        vertical-align: top;\n",
       "    }\n",
       "\n",
       "    .dataframe thead th {\n",
       "        text-align: right;\n",
       "    }\n",
       "</style>\n",
       "<table border=\"1\" class=\"dataframe\">\n",
       "  <thead>\n",
       "    <tr style=\"text-align: right;\">\n",
       "      <th></th>\n",
       "      <th>temp_max</th>\n",
       "      <th>temp_avg</th>\n",
       "      <th>temp_min</th>\n",
       "      <th>prec</th>\n",
       "      <th>wd</th>\n",
       "      <th>ws</th>\n",
       "      <th>atmos_pres_avg</th>\n",
       "      <th>atmos_pres_min</th>\n",
       "      <th>atmos_pres_max</th>\n",
       "      <th>rh</th>\n",
       "      <th>ceil_hgt</th>\n",
       "      <th>visibility</th>\n",
       "      <th>FMA</th>\n",
       "    </tr>\n",
       "  </thead>\n",
       "  <tbody>\n",
       "    <tr>\n",
       "      <th>count</th>\n",
       "      <td>3832.000000</td>\n",
       "      <td>3832.000000</td>\n",
       "      <td>3832.000000</td>\n",
       "      <td>3832.000000</td>\n",
       "      <td>3832.000000</td>\n",
       "      <td>3832.000000</td>\n",
       "      <td>3832.000000</td>\n",
       "      <td>3832.000000</td>\n",
       "      <td>3832.000000</td>\n",
       "      <td>3832.000000</td>\n",
       "      <td>3832.000000</td>\n",
       "      <td>3832.000000</td>\n",
       "      <td>3832.000000</td>\n",
       "    </tr>\n",
       "    <tr>\n",
       "      <th>mean</th>\n",
       "      <td>22.960401</td>\n",
       "      <td>20.950245</td>\n",
       "      <td>18.058555</td>\n",
       "      <td>0.541675</td>\n",
       "      <td>212.785527</td>\n",
       "      <td>5.117067</td>\n",
       "      <td>1018.313781</td>\n",
       "      <td>1017.429473</td>\n",
       "      <td>1019.175925</td>\n",
       "      <td>65.808155</td>\n",
       "      <td>19053.037667</td>\n",
       "      <td>24120.222850</td>\n",
       "      <td>0.018789</td>\n",
       "    </tr>\n",
       "    <tr>\n",
       "      <th>std</th>\n",
       "      <td>3.177901</td>\n",
       "      <td>2.881082</td>\n",
       "      <td>2.851739</td>\n",
       "      <td>5.069986</td>\n",
       "      <td>58.217695</td>\n",
       "      <td>2.702355</td>\n",
       "      <td>3.901702</td>\n",
       "      <td>4.050892</td>\n",
       "      <td>3.945925</td>\n",
       "      <td>11.557094</td>\n",
       "      <td>4335.960779</td>\n",
       "      <td>15561.580209</td>\n",
       "      <td>0.135797</td>\n",
       "    </tr>\n",
       "    <tr>\n",
       "      <th>min</th>\n",
       "      <td>12.700000</td>\n",
       "      <td>12.240000</td>\n",
       "      <td>2.100000</td>\n",
       "      <td>0.000000</td>\n",
       "      <td>10.000000</td>\n",
       "      <td>0.000000</td>\n",
       "      <td>982.700000</td>\n",
       "      <td>945.800000</td>\n",
       "      <td>1000.300000</td>\n",
       "      <td>14.220000</td>\n",
       "      <td>60.000000</td>\n",
       "      <td>1000.000000</td>\n",
       "      <td>0.000000</td>\n",
       "    </tr>\n",
       "    <tr>\n",
       "      <th>25%</th>\n",
       "      <td>20.700000</td>\n",
       "      <td>18.697500</td>\n",
       "      <td>16.000000</td>\n",
       "      <td>0.000000</td>\n",
       "      <td>195.000000</td>\n",
       "      <td>3.600000</td>\n",
       "      <td>1016.250000</td>\n",
       "      <td>1015.500000</td>\n",
       "      <td>1017.000000</td>\n",
       "      <td>59.375000</td>\n",
       "      <td>19572.730000</td>\n",
       "      <td>12530.420000</td>\n",
       "      <td>0.000000</td>\n",
       "    </tr>\n",
       "    <tr>\n",
       "      <th>50%</th>\n",
       "      <td>22.963965</td>\n",
       "      <td>20.750000</td>\n",
       "      <td>18.000000</td>\n",
       "      <td>0.000000</td>\n",
       "      <td>225.225000</td>\n",
       "      <td>4.600000</td>\n",
       "      <td>1018.410000</td>\n",
       "      <td>1017.506667</td>\n",
       "      <td>1019.283937</td>\n",
       "      <td>67.455000</td>\n",
       "      <td>19572.730000</td>\n",
       "      <td>16660.000000</td>\n",
       "      <td>0.000000</td>\n",
       "    </tr>\n",
       "    <tr>\n",
       "      <th>75%</th>\n",
       "      <td>25.000000</td>\n",
       "      <td>23.002500</td>\n",
       "      <td>20.000000</td>\n",
       "      <td>0.000000</td>\n",
       "      <td>242.500000</td>\n",
       "      <td>6.200000</td>\n",
       "      <td>1019.950000</td>\n",
       "      <td>1019.200000</td>\n",
       "      <td>1020.800000</td>\n",
       "      <td>73.422500</td>\n",
       "      <td>22000.000000</td>\n",
       "      <td>35000.000000</td>\n",
       "      <td>0.000000</td>\n",
       "    </tr>\n",
       "    <tr>\n",
       "      <th>max</th>\n",
       "      <td>43.000000</td>\n",
       "      <td>36.500000</td>\n",
       "      <td>35.000000</td>\n",
       "      <td>120.500000</td>\n",
       "      <td>360.000000</td>\n",
       "      <td>43.200000</td>\n",
       "      <td>1046.700000</td>\n",
       "      <td>1046.700000</td>\n",
       "      <td>1046.700000</td>\n",
       "      <td>100.000000</td>\n",
       "      <td>22000.000000</td>\n",
       "      <td>70001.000000</td>\n",
       "      <td>1.000000</td>\n",
       "    </tr>\n",
       "  </tbody>\n",
       "</table>\n",
       "</div>"
      ],
      "text/plain": [
       "          temp_max     temp_avg     temp_min         prec           wd  \\\n",
       "count  3832.000000  3832.000000  3832.000000  3832.000000  3832.000000   \n",
       "mean     22.960401    20.950245    18.058555     0.541675   212.785527   \n",
       "std       3.177901     2.881082     2.851739     5.069986    58.217695   \n",
       "min      12.700000    12.240000     2.100000     0.000000    10.000000   \n",
       "25%      20.700000    18.697500    16.000000     0.000000   195.000000   \n",
       "50%      22.963965    20.750000    18.000000     0.000000   225.225000   \n",
       "75%      25.000000    23.002500    20.000000     0.000000   242.500000   \n",
       "max      43.000000    36.500000    35.000000   120.500000   360.000000   \n",
       "\n",
       "                ws  atmos_pres_avg  atmos_pres_min  atmos_pres_max  \\\n",
       "count  3832.000000     3832.000000     3832.000000     3832.000000   \n",
       "mean      5.117067     1018.313781     1017.429473     1019.175925   \n",
       "std       2.702355        3.901702        4.050892        3.945925   \n",
       "min       0.000000      982.700000      945.800000     1000.300000   \n",
       "25%       3.600000     1016.250000     1015.500000     1017.000000   \n",
       "50%       4.600000     1018.410000     1017.506667     1019.283937   \n",
       "75%       6.200000     1019.950000     1019.200000     1020.800000   \n",
       "max      43.200000     1046.700000     1046.700000     1046.700000   \n",
       "\n",
       "                rh      ceil_hgt    visibility          FMA  \n",
       "count  3832.000000   3832.000000   3832.000000  3832.000000  \n",
       "mean     65.808155  19053.037667  24120.222850     0.018789  \n",
       "std      11.557094   4335.960779  15561.580209     0.135797  \n",
       "min      14.220000     60.000000   1000.000000     0.000000  \n",
       "25%      59.375000  19572.730000  12530.420000     0.000000  \n",
       "50%      67.455000  19572.730000  16660.000000     0.000000  \n",
       "75%      73.422500  22000.000000  35000.000000     0.000000  \n",
       "max     100.000000  22000.000000  70001.000000     1.000000  "
      ]
     },
     "execution_count": 8,
     "metadata": {},
     "output_type": "execute_result"
    }
   ],
   "source": [
    "train.describe()"
   ]
  },
  {
   "cell_type": "code",
   "execution_count": 9,
   "id": "subjective-superior",
   "metadata": {},
   "outputs": [],
   "source": [
    "train = train[train['FMA'] == 0]"
   ]
  },
  {
   "cell_type": "code",
   "execution_count": 10,
   "id": "adopted-lloyd",
   "metadata": {},
   "outputs": [
    {
     "data": {
      "text/plain": [
       "(3760, 13)"
      ]
     },
     "execution_count": 10,
     "metadata": {},
     "output_type": "execute_result"
    }
   ],
   "source": [
    "train.shape"
   ]
  },
  {
   "cell_type": "code",
   "execution_count": 11,
   "id": "verified-dimension",
   "metadata": {},
   "outputs": [],
   "source": [
    "split = math.trunc(train.shape[0] * 0.2)\n",
    "validation = train[-split:]\n",
    "train = train[:-split]"
   ]
  },
  {
   "cell_type": "code",
   "execution_count": 12,
   "id": "following-ordinance",
   "metadata": {},
   "outputs": [
    {
     "name": "stdout",
     "output_type": "stream",
     "text": [
      "Validation: (752, 13)\n",
      "Train: (3008, 13)\n"
     ]
    }
   ],
   "source": [
    "print(\"Validation:\", validation.shape)\n",
    "print(\"Train:\", train.shape)"
   ]
  },
  {
   "cell_type": "code",
   "execution_count": 13,
   "id": "understanding-trial",
   "metadata": {},
   "outputs": [],
   "source": [
    "train_fma = train.iloc[:, -1]\n",
    "validation_fma = validation.iloc[:, -1]\n",
    "test_fma = test.iloc[:, -1]"
   ]
  },
  {
   "cell_type": "code",
   "execution_count": 14,
   "id": "extensive-bridge",
   "metadata": {},
   "outputs": [],
   "source": [
    "train_fma.columns = ['train_fma']\n",
    "validation_fma.columns = ['validation_fma']\n",
    "test_fma.columns = ['test_fma']"
   ]
  },
  {
   "cell_type": "code",
   "execution_count": 15,
   "id": "vital-preliminary",
   "metadata": {},
   "outputs": [
    {
     "data": {
      "text/plain": [
       "3832    0\n",
       "3833    0\n",
       "3834    0\n",
       "3835    0\n",
       "3836    0\n",
       "Name: FMA, dtype: int64"
      ]
     },
     "execution_count": 15,
     "metadata": {},
     "output_type": "execute_result"
    }
   ],
   "source": [
    "test_fma.head()"
   ]
  },
  {
   "cell_type": "markdown",
   "id": "sunset-locator",
   "metadata": {},
   "source": [
    "## Correlation"
   ]
  },
  {
   "cell_type": "code",
   "execution_count": 16,
   "id": "located-worcester",
   "metadata": {},
   "outputs": [
    {
     "data": {
      "text/html": [
       "<div>\n",
       "<style scoped>\n",
       "    .dataframe tbody tr th:only-of-type {\n",
       "        vertical-align: middle;\n",
       "    }\n",
       "\n",
       "    .dataframe tbody tr th {\n",
       "        vertical-align: top;\n",
       "    }\n",
       "\n",
       "    .dataframe thead th {\n",
       "        text-align: right;\n",
       "    }\n",
       "</style>\n",
       "<table border=\"1\" class=\"dataframe\">\n",
       "  <thead>\n",
       "    <tr style=\"text-align: right;\">\n",
       "      <th></th>\n",
       "      <th>temp_max</th>\n",
       "      <th>temp_avg</th>\n",
       "      <th>temp_min</th>\n",
       "      <th>prec</th>\n",
       "      <th>wd</th>\n",
       "      <th>ws</th>\n",
       "      <th>atmos_pres_avg</th>\n",
       "      <th>atmos_pres_min</th>\n",
       "      <th>atmos_pres_max</th>\n",
       "      <th>rh</th>\n",
       "      <th>ceil_hgt</th>\n",
       "      <th>visibility</th>\n",
       "      <th>FMA</th>\n",
       "    </tr>\n",
       "  </thead>\n",
       "  <tbody>\n",
       "    <tr>\n",
       "      <th>temp_max</th>\n",
       "      <td>1.000000</td>\n",
       "      <td>0.972920</td>\n",
       "      <td>0.881357</td>\n",
       "      <td>-0.119606</td>\n",
       "      <td>-0.047577</td>\n",
       "      <td>-0.140939</td>\n",
       "      <td>-0.363176</td>\n",
       "      <td>-0.339326</td>\n",
       "      <td>-0.382669</td>\n",
       "      <td>-0.045533</td>\n",
       "      <td>-0.033069</td>\n",
       "      <td>-0.277392</td>\n",
       "      <td>0.053806</td>\n",
       "    </tr>\n",
       "    <tr>\n",
       "      <th>temp_avg</th>\n",
       "      <td>0.972920</td>\n",
       "      <td>1.000000</td>\n",
       "      <td>0.952955</td>\n",
       "      <td>-0.103608</td>\n",
       "      <td>-0.081037</td>\n",
       "      <td>-0.142228</td>\n",
       "      <td>-0.374335</td>\n",
       "      <td>-0.350232</td>\n",
       "      <td>-0.393579</td>\n",
       "      <td>-0.049850</td>\n",
       "      <td>-0.046074</td>\n",
       "      <td>-0.278679</td>\n",
       "      <td>0.050791</td>\n",
       "    </tr>\n",
       "    <tr>\n",
       "      <th>temp_min</th>\n",
       "      <td>0.881357</td>\n",
       "      <td>0.952955</td>\n",
       "      <td>1.000000</td>\n",
       "      <td>-0.062268</td>\n",
       "      <td>-0.125131</td>\n",
       "      <td>-0.149725</td>\n",
       "      <td>-0.351670</td>\n",
       "      <td>-0.333743</td>\n",
       "      <td>-0.366080</td>\n",
       "      <td>-0.064762</td>\n",
       "      <td>-0.080751</td>\n",
       "      <td>-0.280990</td>\n",
       "      <td>0.016456</td>\n",
       "    </tr>\n",
       "    <tr>\n",
       "      <th>prec</th>\n",
       "      <td>-0.119606</td>\n",
       "      <td>-0.103608</td>\n",
       "      <td>-0.062268</td>\n",
       "      <td>1.000000</td>\n",
       "      <td>0.023900</td>\n",
       "      <td>0.042214</td>\n",
       "      <td>-0.239147</td>\n",
       "      <td>-0.252582</td>\n",
       "      <td>-0.219653</td>\n",
       "      <td>0.104439</td>\n",
       "      <td>-0.258816</td>\n",
       "      <td>-0.038211</td>\n",
       "      <td>0.487261</td>\n",
       "    </tr>\n",
       "    <tr>\n",
       "      <th>wd</th>\n",
       "      <td>-0.047577</td>\n",
       "      <td>-0.081037</td>\n",
       "      <td>-0.125131</td>\n",
       "      <td>0.023900</td>\n",
       "      <td>1.000000</td>\n",
       "      <td>-0.016725</td>\n",
       "      <td>-0.073036</td>\n",
       "      <td>-0.068943</td>\n",
       "      <td>-0.080996</td>\n",
       "      <td>0.187872</td>\n",
       "      <td>0.072266</td>\n",
       "      <td>0.085724</td>\n",
       "      <td>-0.038401</td>\n",
       "    </tr>\n",
       "    <tr>\n",
       "      <th>ws</th>\n",
       "      <td>-0.140939</td>\n",
       "      <td>-0.142228</td>\n",
       "      <td>-0.149725</td>\n",
       "      <td>0.042214</td>\n",
       "      <td>-0.016725</td>\n",
       "      <td>1.000000</td>\n",
       "      <td>0.042293</td>\n",
       "      <td>0.031351</td>\n",
       "      <td>0.048467</td>\n",
       "      <td>-0.045449</td>\n",
       "      <td>0.058669</td>\n",
       "      <td>-0.036188</td>\n",
       "      <td>0.498255</td>\n",
       "    </tr>\n",
       "    <tr>\n",
       "      <th>atmos_pres_avg</th>\n",
       "      <td>-0.363176</td>\n",
       "      <td>-0.374335</td>\n",
       "      <td>-0.351670</td>\n",
       "      <td>-0.239147</td>\n",
       "      <td>-0.073036</td>\n",
       "      <td>0.042293</td>\n",
       "      <td>1.000000</td>\n",
       "      <td>0.992758</td>\n",
       "      <td>0.993468</td>\n",
       "      <td>-0.279648</td>\n",
       "      <td>0.026159</td>\n",
       "      <td>0.183079</td>\n",
       "      <td>-0.087863</td>\n",
       "    </tr>\n",
       "    <tr>\n",
       "      <th>atmos_pres_min</th>\n",
       "      <td>-0.339326</td>\n",
       "      <td>-0.350232</td>\n",
       "      <td>-0.333743</td>\n",
       "      <td>-0.252582</td>\n",
       "      <td>-0.068943</td>\n",
       "      <td>0.031351</td>\n",
       "      <td>0.992758</td>\n",
       "      <td>1.000000</td>\n",
       "      <td>0.977027</td>\n",
       "      <td>-0.264295</td>\n",
       "      <td>0.036463</td>\n",
       "      <td>0.184595</td>\n",
       "      <td>-0.093571</td>\n",
       "    </tr>\n",
       "    <tr>\n",
       "      <th>atmos_pres_max</th>\n",
       "      <td>-0.382669</td>\n",
       "      <td>-0.393579</td>\n",
       "      <td>-0.366080</td>\n",
       "      <td>-0.219653</td>\n",
       "      <td>-0.080996</td>\n",
       "      <td>0.048467</td>\n",
       "      <td>0.993468</td>\n",
       "      <td>0.977027</td>\n",
       "      <td>1.000000</td>\n",
       "      <td>-0.290316</td>\n",
       "      <td>0.011450</td>\n",
       "      <td>0.181190</td>\n",
       "      <td>-0.075735</td>\n",
       "    </tr>\n",
       "    <tr>\n",
       "      <th>rh</th>\n",
       "      <td>-0.045533</td>\n",
       "      <td>-0.049850</td>\n",
       "      <td>-0.064762</td>\n",
       "      <td>0.104439</td>\n",
       "      <td>0.187872</td>\n",
       "      <td>-0.045449</td>\n",
       "      <td>-0.279648</td>\n",
       "      <td>-0.264295</td>\n",
       "      <td>-0.290316</td>\n",
       "      <td>1.000000</td>\n",
       "      <td>0.080018</td>\n",
       "      <td>-0.155158</td>\n",
       "      <td>-0.019245</td>\n",
       "    </tr>\n",
       "    <tr>\n",
       "      <th>ceil_hgt</th>\n",
       "      <td>-0.033069</td>\n",
       "      <td>-0.046074</td>\n",
       "      <td>-0.080751</td>\n",
       "      <td>-0.258816</td>\n",
       "      <td>0.072266</td>\n",
       "      <td>0.058669</td>\n",
       "      <td>0.026159</td>\n",
       "      <td>0.036463</td>\n",
       "      <td>0.011450</td>\n",
       "      <td>0.080018</td>\n",
       "      <td>1.000000</td>\n",
       "      <td>0.043498</td>\n",
       "      <td>-0.027789</td>\n",
       "    </tr>\n",
       "    <tr>\n",
       "      <th>visibility</th>\n",
       "      <td>-0.277392</td>\n",
       "      <td>-0.278679</td>\n",
       "      <td>-0.280990</td>\n",
       "      <td>-0.038211</td>\n",
       "      <td>0.085724</td>\n",
       "      <td>-0.036188</td>\n",
       "      <td>0.183079</td>\n",
       "      <td>0.184595</td>\n",
       "      <td>0.181190</td>\n",
       "      <td>-0.155158</td>\n",
       "      <td>0.043498</td>\n",
       "      <td>1.000000</td>\n",
       "      <td>-0.098139</td>\n",
       "    </tr>\n",
       "    <tr>\n",
       "      <th>FMA</th>\n",
       "      <td>0.053806</td>\n",
       "      <td>0.050791</td>\n",
       "      <td>0.016456</td>\n",
       "      <td>0.487261</td>\n",
       "      <td>-0.038401</td>\n",
       "      <td>0.498255</td>\n",
       "      <td>-0.087863</td>\n",
       "      <td>-0.093571</td>\n",
       "      <td>-0.075735</td>\n",
       "      <td>-0.019245</td>\n",
       "      <td>-0.027789</td>\n",
       "      <td>-0.098139</td>\n",
       "      <td>1.000000</td>\n",
       "    </tr>\n",
       "  </tbody>\n",
       "</table>\n",
       "</div>"
      ],
      "text/plain": [
       "                temp_max  temp_avg  temp_min      prec        wd        ws  \\\n",
       "temp_max        1.000000  0.972920  0.881357 -0.119606 -0.047577 -0.140939   \n",
       "temp_avg        0.972920  1.000000  0.952955 -0.103608 -0.081037 -0.142228   \n",
       "temp_min        0.881357  0.952955  1.000000 -0.062268 -0.125131 -0.149725   \n",
       "prec           -0.119606 -0.103608 -0.062268  1.000000  0.023900  0.042214   \n",
       "wd             -0.047577 -0.081037 -0.125131  0.023900  1.000000 -0.016725   \n",
       "ws             -0.140939 -0.142228 -0.149725  0.042214 -0.016725  1.000000   \n",
       "atmos_pres_avg -0.363176 -0.374335 -0.351670 -0.239147 -0.073036  0.042293   \n",
       "atmos_pres_min -0.339326 -0.350232 -0.333743 -0.252582 -0.068943  0.031351   \n",
       "atmos_pres_max -0.382669 -0.393579 -0.366080 -0.219653 -0.080996  0.048467   \n",
       "rh             -0.045533 -0.049850 -0.064762  0.104439  0.187872 -0.045449   \n",
       "ceil_hgt       -0.033069 -0.046074 -0.080751 -0.258816  0.072266  0.058669   \n",
       "visibility     -0.277392 -0.278679 -0.280990 -0.038211  0.085724 -0.036188   \n",
       "FMA             0.053806  0.050791  0.016456  0.487261 -0.038401  0.498255   \n",
       "\n",
       "                atmos_pres_avg  atmos_pres_min  atmos_pres_max        rh  \\\n",
       "temp_max             -0.363176       -0.339326       -0.382669 -0.045533   \n",
       "temp_avg             -0.374335       -0.350232       -0.393579 -0.049850   \n",
       "temp_min             -0.351670       -0.333743       -0.366080 -0.064762   \n",
       "prec                 -0.239147       -0.252582       -0.219653  0.104439   \n",
       "wd                   -0.073036       -0.068943       -0.080996  0.187872   \n",
       "ws                    0.042293        0.031351        0.048467 -0.045449   \n",
       "atmos_pres_avg        1.000000        0.992758        0.993468 -0.279648   \n",
       "atmos_pres_min        0.992758        1.000000        0.977027 -0.264295   \n",
       "atmos_pres_max        0.993468        0.977027        1.000000 -0.290316   \n",
       "rh                   -0.279648       -0.264295       -0.290316  1.000000   \n",
       "ceil_hgt              0.026159        0.036463        0.011450  0.080018   \n",
       "visibility            0.183079        0.184595        0.181190 -0.155158   \n",
       "FMA                  -0.087863       -0.093571       -0.075735 -0.019245   \n",
       "\n",
       "                ceil_hgt  visibility       FMA  \n",
       "temp_max       -0.033069   -0.277392  0.053806  \n",
       "temp_avg       -0.046074   -0.278679  0.050791  \n",
       "temp_min       -0.080751   -0.280990  0.016456  \n",
       "prec           -0.258816   -0.038211  0.487261  \n",
       "wd              0.072266    0.085724 -0.038401  \n",
       "ws              0.058669   -0.036188  0.498255  \n",
       "atmos_pres_avg  0.026159    0.183079 -0.087863  \n",
       "atmos_pres_min  0.036463    0.184595 -0.093571  \n",
       "atmos_pres_max  0.011450    0.181190 -0.075735  \n",
       "rh              0.080018   -0.155158 -0.019245  \n",
       "ceil_hgt        1.000000    0.043498 -0.027789  \n",
       "visibility      0.043498    1.000000 -0.098139  \n",
       "FMA            -0.027789   -0.098139  1.000000  "
      ]
     },
     "execution_count": 16,
     "metadata": {},
     "output_type": "execute_result"
    }
   ],
   "source": [
    "test.corr()"
   ]
  },
  {
   "cell_type": "code",
   "execution_count": 17,
   "id": "angry-marine",
   "metadata": {},
   "outputs": [
    {
     "data": {
      "text/html": [
       "<div>\n",
       "<style scoped>\n",
       "    .dataframe tbody tr th:only-of-type {\n",
       "        vertical-align: middle;\n",
       "    }\n",
       "\n",
       "    .dataframe tbody tr th {\n",
       "        vertical-align: top;\n",
       "    }\n",
       "\n",
       "    .dataframe thead th {\n",
       "        text-align: right;\n",
       "    }\n",
       "</style>\n",
       "<table border=\"1\" class=\"dataframe\">\n",
       "  <thead>\n",
       "    <tr style=\"text-align: right;\">\n",
       "      <th></th>\n",
       "      <th>temp_max</th>\n",
       "      <th>temp_avg</th>\n",
       "      <th>temp_min</th>\n",
       "      <th>prec</th>\n",
       "      <th>wd</th>\n",
       "      <th>ws</th>\n",
       "      <th>atmos_pres_avg</th>\n",
       "      <th>atmos_pres_min</th>\n",
       "      <th>atmos_pres_max</th>\n",
       "      <th>rh</th>\n",
       "      <th>ceil_hgt</th>\n",
       "      <th>visibility</th>\n",
       "      <th>FMA</th>\n",
       "    </tr>\n",
       "  </thead>\n",
       "  <tbody>\n",
       "    <tr>\n",
       "      <th>temp_max</th>\n",
       "      <td>1.000000</td>\n",
       "      <td>0.972253</td>\n",
       "      <td>0.858020</td>\n",
       "      <td>-0.125444</td>\n",
       "      <td>0.066274</td>\n",
       "      <td>-0.084654</td>\n",
       "      <td>-0.261110</td>\n",
       "      <td>-0.223011</td>\n",
       "      <td>-0.288625</td>\n",
       "      <td>-0.066679</td>\n",
       "      <td>0.207875</td>\n",
       "      <td>-0.162673</td>\n",
       "      <td>NaN</td>\n",
       "    </tr>\n",
       "    <tr>\n",
       "      <th>temp_avg</th>\n",
       "      <td>0.972253</td>\n",
       "      <td>1.000000</td>\n",
       "      <td>0.930556</td>\n",
       "      <td>-0.120273</td>\n",
       "      <td>0.059542</td>\n",
       "      <td>-0.083679</td>\n",
       "      <td>-0.272722</td>\n",
       "      <td>-0.233616</td>\n",
       "      <td>-0.300403</td>\n",
       "      <td>-0.048049</td>\n",
       "      <td>0.176177</td>\n",
       "      <td>-0.139409</td>\n",
       "      <td>NaN</td>\n",
       "    </tr>\n",
       "    <tr>\n",
       "      <th>temp_min</th>\n",
       "      <td>0.858020</td>\n",
       "      <td>0.930556</td>\n",
       "      <td>1.000000</td>\n",
       "      <td>-0.074763</td>\n",
       "      <td>0.015059</td>\n",
       "      <td>-0.053422</td>\n",
       "      <td>-0.274624</td>\n",
       "      <td>-0.242882</td>\n",
       "      <td>-0.295744</td>\n",
       "      <td>-0.002934</td>\n",
       "      <td>0.042286</td>\n",
       "      <td>-0.050686</td>\n",
       "      <td>NaN</td>\n",
       "    </tr>\n",
       "    <tr>\n",
       "      <th>prec</th>\n",
       "      <td>-0.125444</td>\n",
       "      <td>-0.120273</td>\n",
       "      <td>-0.074763</td>\n",
       "      <td>1.000000</td>\n",
       "      <td>0.054333</td>\n",
       "      <td>0.189451</td>\n",
       "      <td>-0.240085</td>\n",
       "      <td>-0.244321</td>\n",
       "      <td>-0.230414</td>\n",
       "      <td>0.142776</td>\n",
       "      <td>-0.142250</td>\n",
       "      <td>-0.036000</td>\n",
       "      <td>NaN</td>\n",
       "    </tr>\n",
       "    <tr>\n",
       "      <th>wd</th>\n",
       "      <td>0.066274</td>\n",
       "      <td>0.059542</td>\n",
       "      <td>0.015059</td>\n",
       "      <td>0.054333</td>\n",
       "      <td>1.000000</td>\n",
       "      <td>-0.002588</td>\n",
       "      <td>-0.140491</td>\n",
       "      <td>-0.126649</td>\n",
       "      <td>-0.148036</td>\n",
       "      <td>0.362044</td>\n",
       "      <td>0.018585</td>\n",
       "      <td>0.052686</td>\n",
       "      <td>NaN</td>\n",
       "    </tr>\n",
       "    <tr>\n",
       "      <th>ws</th>\n",
       "      <td>-0.084654</td>\n",
       "      <td>-0.083679</td>\n",
       "      <td>-0.053422</td>\n",
       "      <td>0.189451</td>\n",
       "      <td>-0.002588</td>\n",
       "      <td>1.000000</td>\n",
       "      <td>-0.131442</td>\n",
       "      <td>-0.140164</td>\n",
       "      <td>-0.123878</td>\n",
       "      <td>-0.035096</td>\n",
       "      <td>-0.043297</td>\n",
       "      <td>-0.143020</td>\n",
       "      <td>NaN</td>\n",
       "    </tr>\n",
       "    <tr>\n",
       "      <th>atmos_pres_avg</th>\n",
       "      <td>-0.261110</td>\n",
       "      <td>-0.272722</td>\n",
       "      <td>-0.274624</td>\n",
       "      <td>-0.240085</td>\n",
       "      <td>-0.140491</td>\n",
       "      <td>-0.131442</td>\n",
       "      <td>1.000000</td>\n",
       "      <td>0.978526</td>\n",
       "      <td>0.977641</td>\n",
       "      <td>-0.198469</td>\n",
       "      <td>0.091130</td>\n",
       "      <td>0.154309</td>\n",
       "      <td>NaN</td>\n",
       "    </tr>\n",
       "    <tr>\n",
       "      <th>atmos_pres_min</th>\n",
       "      <td>-0.223011</td>\n",
       "      <td>-0.233616</td>\n",
       "      <td>-0.242882</td>\n",
       "      <td>-0.244321</td>\n",
       "      <td>-0.126649</td>\n",
       "      <td>-0.140164</td>\n",
       "      <td>0.978526</td>\n",
       "      <td>1.000000</td>\n",
       "      <td>0.915848</td>\n",
       "      <td>-0.185274</td>\n",
       "      <td>0.102387</td>\n",
       "      <td>0.137363</td>\n",
       "      <td>NaN</td>\n",
       "    </tr>\n",
       "    <tr>\n",
       "      <th>atmos_pres_max</th>\n",
       "      <td>-0.288625</td>\n",
       "      <td>-0.300403</td>\n",
       "      <td>-0.295744</td>\n",
       "      <td>-0.230414</td>\n",
       "      <td>-0.148036</td>\n",
       "      <td>-0.123878</td>\n",
       "      <td>0.977641</td>\n",
       "      <td>0.915848</td>\n",
       "      <td>1.000000</td>\n",
       "      <td>-0.204587</td>\n",
       "      <td>0.076958</td>\n",
       "      <td>0.163959</td>\n",
       "      <td>NaN</td>\n",
       "    </tr>\n",
       "    <tr>\n",
       "      <th>rh</th>\n",
       "      <td>-0.066679</td>\n",
       "      <td>-0.048049</td>\n",
       "      <td>-0.002934</td>\n",
       "      <td>0.142776</td>\n",
       "      <td>0.362044</td>\n",
       "      <td>-0.035096</td>\n",
       "      <td>-0.198469</td>\n",
       "      <td>-0.185274</td>\n",
       "      <td>-0.204587</td>\n",
       "      <td>1.000000</td>\n",
       "      <td>-0.192780</td>\n",
       "      <td>0.055487</td>\n",
       "      <td>NaN</td>\n",
       "    </tr>\n",
       "    <tr>\n",
       "      <th>ceil_hgt</th>\n",
       "      <td>0.207875</td>\n",
       "      <td>0.176177</td>\n",
       "      <td>0.042286</td>\n",
       "      <td>-0.142250</td>\n",
       "      <td>0.018585</td>\n",
       "      <td>-0.043297</td>\n",
       "      <td>0.091130</td>\n",
       "      <td>0.102387</td>\n",
       "      <td>0.076958</td>\n",
       "      <td>-0.192780</td>\n",
       "      <td>1.000000</td>\n",
       "      <td>0.064397</td>\n",
       "      <td>NaN</td>\n",
       "    </tr>\n",
       "    <tr>\n",
       "      <th>visibility</th>\n",
       "      <td>-0.162673</td>\n",
       "      <td>-0.139409</td>\n",
       "      <td>-0.050686</td>\n",
       "      <td>-0.036000</td>\n",
       "      <td>0.052686</td>\n",
       "      <td>-0.143020</td>\n",
       "      <td>0.154309</td>\n",
       "      <td>0.137363</td>\n",
       "      <td>0.163959</td>\n",
       "      <td>0.055487</td>\n",
       "      <td>0.064397</td>\n",
       "      <td>1.000000</td>\n",
       "      <td>NaN</td>\n",
       "    </tr>\n",
       "    <tr>\n",
       "      <th>FMA</th>\n",
       "      <td>NaN</td>\n",
       "      <td>NaN</td>\n",
       "      <td>NaN</td>\n",
       "      <td>NaN</td>\n",
       "      <td>NaN</td>\n",
       "      <td>NaN</td>\n",
       "      <td>NaN</td>\n",
       "      <td>NaN</td>\n",
       "      <td>NaN</td>\n",
       "      <td>NaN</td>\n",
       "      <td>NaN</td>\n",
       "      <td>NaN</td>\n",
       "      <td>NaN</td>\n",
       "    </tr>\n",
       "  </tbody>\n",
       "</table>\n",
       "</div>"
      ],
      "text/plain": [
       "                temp_max  temp_avg  temp_min      prec        wd        ws  \\\n",
       "temp_max        1.000000  0.972253  0.858020 -0.125444  0.066274 -0.084654   \n",
       "temp_avg        0.972253  1.000000  0.930556 -0.120273  0.059542 -0.083679   \n",
       "temp_min        0.858020  0.930556  1.000000 -0.074763  0.015059 -0.053422   \n",
       "prec           -0.125444 -0.120273 -0.074763  1.000000  0.054333  0.189451   \n",
       "wd              0.066274  0.059542  0.015059  0.054333  1.000000 -0.002588   \n",
       "ws             -0.084654 -0.083679 -0.053422  0.189451 -0.002588  1.000000   \n",
       "atmos_pres_avg -0.261110 -0.272722 -0.274624 -0.240085 -0.140491 -0.131442   \n",
       "atmos_pres_min -0.223011 -0.233616 -0.242882 -0.244321 -0.126649 -0.140164   \n",
       "atmos_pres_max -0.288625 -0.300403 -0.295744 -0.230414 -0.148036 -0.123878   \n",
       "rh             -0.066679 -0.048049 -0.002934  0.142776  0.362044 -0.035096   \n",
       "ceil_hgt        0.207875  0.176177  0.042286 -0.142250  0.018585 -0.043297   \n",
       "visibility     -0.162673 -0.139409 -0.050686 -0.036000  0.052686 -0.143020   \n",
       "FMA                  NaN       NaN       NaN       NaN       NaN       NaN   \n",
       "\n",
       "                atmos_pres_avg  atmos_pres_min  atmos_pres_max        rh  \\\n",
       "temp_max             -0.261110       -0.223011       -0.288625 -0.066679   \n",
       "temp_avg             -0.272722       -0.233616       -0.300403 -0.048049   \n",
       "temp_min             -0.274624       -0.242882       -0.295744 -0.002934   \n",
       "prec                 -0.240085       -0.244321       -0.230414  0.142776   \n",
       "wd                   -0.140491       -0.126649       -0.148036  0.362044   \n",
       "ws                   -0.131442       -0.140164       -0.123878 -0.035096   \n",
       "atmos_pres_avg        1.000000        0.978526        0.977641 -0.198469   \n",
       "atmos_pres_min        0.978526        1.000000        0.915848 -0.185274   \n",
       "atmos_pres_max        0.977641        0.915848        1.000000 -0.204587   \n",
       "rh                   -0.198469       -0.185274       -0.204587  1.000000   \n",
       "ceil_hgt              0.091130        0.102387        0.076958 -0.192780   \n",
       "visibility            0.154309        0.137363        0.163959  0.055487   \n",
       "FMA                        NaN             NaN             NaN       NaN   \n",
       "\n",
       "                ceil_hgt  visibility  FMA  \n",
       "temp_max        0.207875   -0.162673  NaN  \n",
       "temp_avg        0.176177   -0.139409  NaN  \n",
       "temp_min        0.042286   -0.050686  NaN  \n",
       "prec           -0.142250   -0.036000  NaN  \n",
       "wd              0.018585    0.052686  NaN  \n",
       "ws             -0.043297   -0.143020  NaN  \n",
       "atmos_pres_avg  0.091130    0.154309  NaN  \n",
       "atmos_pres_min  0.102387    0.137363  NaN  \n",
       "atmos_pres_max  0.076958    0.163959  NaN  \n",
       "rh             -0.192780    0.055487  NaN  \n",
       "ceil_hgt        1.000000    0.064397  NaN  \n",
       "visibility      0.064397    1.000000  NaN  \n",
       "FMA                  NaN         NaN  NaN  "
      ]
     },
     "execution_count": 17,
     "metadata": {},
     "output_type": "execute_result"
    }
   ],
   "source": [
    "train.corr()"
   ]
  },
  {
   "cell_type": "code",
   "execution_count": 18,
   "id": "afraid-twist",
   "metadata": {},
   "outputs": [
    {
     "data": {
      "image/png": "[encoded data removed]",
      "text/plain": [
       "<Figure size 800x800 with 2 Axes>"
      ]
     },
     "metadata": {
      "needs_background": "light"
     },
     "output_type": "display_data"
    }
   ],
   "source": [
    "figure = plt.figure(figsize = (8,8), dpi = 100)\n",
    "ax = figure.add_subplot(111)\n",
    "cax = ax.matshow(train.corr(), interpolation = 'nearest')\n",
    "figure.colorbar(cax)\n",
    "plt.show()"
   ]
  },
  {
   "cell_type": "markdown",
   "id": "standard-publicity",
   "metadata": {},
   "source": [
    "## Update Datas "
   ]
  },
  {
   "cell_type": "code",
   "execution_count": 19,
   "id": "infrared-assist",
   "metadata": {},
   "outputs": [],
   "source": [
    "test = test.drop(['temp_max', 'temp_min', 'atmos_pres_min', 'atmos_pres_max', 'ceil_hgt', 'visibility', 'FMA'], axis = 1)"
   ]
  },
  {
   "cell_type": "code",
   "execution_count": 20,
   "id": "frequent-boating",
   "metadata": {},
   "outputs": [],
   "source": [
    "train = train.drop(['temp_max', 'temp_min', 'atmos_pres_min', 'atmos_pres_max', 'ceil_hgt', 'visibility', 'FMA'], axis = 1)"
   ]
  },
  {
   "cell_type": "code",
   "execution_count": 21,
   "id": "direct-organic",
   "metadata": {},
   "outputs": [],
   "source": [
    "validation = validation.drop(['temp_max', 'temp_min', 'atmos_pres_min', 'atmos_pres_max', 'ceil_hgt', 'visibility', 'FMA'], axis = 1)"
   ]
  },
  {
   "cell_type": "code",
   "execution_count": 22,
   "id": "welsh-africa",
   "metadata": {},
   "outputs": [
    {
     "data": {
      "text/html": [
       "<div>\n",
       "<style scoped>\n",
       "    .dataframe tbody tr th:only-of-type {\n",
       "        vertical-align: middle;\n",
       "    }\n",
       "\n",
       "    .dataframe tbody tr th {\n",
       "        vertical-align: top;\n",
       "    }\n",
       "\n",
       "    .dataframe thead th {\n",
       "        text-align: right;\n",
       "    }\n",
       "</style>\n",
       "<table border=\"1\" class=\"dataframe\">\n",
       "  <thead>\n",
       "    <tr style=\"text-align: right;\">\n",
       "      <th></th>\n",
       "      <th>temp_avg</th>\n",
       "      <th>prec</th>\n",
       "      <th>wd</th>\n",
       "      <th>ws</th>\n",
       "      <th>atmos_pres_avg</th>\n",
       "      <th>rh</th>\n",
       "    </tr>\n",
       "  </thead>\n",
       "  <tbody>\n",
       "    <tr>\n",
       "      <th>count</th>\n",
       "      <td>959.000000</td>\n",
       "      <td>959.000000</td>\n",
       "      <td>959.000000</td>\n",
       "      <td>959.000000</td>\n",
       "      <td>959.000000</td>\n",
       "      <td>959.000000</td>\n",
       "    </tr>\n",
       "    <tr>\n",
       "      <th>mean</th>\n",
       "      <td>21.144254</td>\n",
       "      <td>0.091971</td>\n",
       "      <td>238.932398</td>\n",
       "      <td>4.682899</td>\n",
       "      <td>1018.787122</td>\n",
       "      <td>65.270355</td>\n",
       "    </tr>\n",
       "    <tr>\n",
       "      <th>std</th>\n",
       "      <td>2.538478</td>\n",
       "      <td>0.987018</td>\n",
       "      <td>53.610970</td>\n",
       "      <td>2.233377</td>\n",
       "      <td>3.515182</td>\n",
       "      <td>11.442096</td>\n",
       "    </tr>\n",
       "    <tr>\n",
       "      <th>min</th>\n",
       "      <td>14.840000</td>\n",
       "      <td>0.000000</td>\n",
       "      <td>46.000000</td>\n",
       "      <td>1.000000</td>\n",
       "      <td>1001.800000</td>\n",
       "      <td>16.030000</td>\n",
       "    </tr>\n",
       "    <tr>\n",
       "      <th>25%</th>\n",
       "      <td>19.060000</td>\n",
       "      <td>0.000000</td>\n",
       "      <td>220.000000</td>\n",
       "      <td>3.600000</td>\n",
       "      <td>1016.690000</td>\n",
       "      <td>59.610000</td>\n",
       "    </tr>\n",
       "    <tr>\n",
       "      <th>50%</th>\n",
       "      <td>21.240000</td>\n",
       "      <td>0.000000</td>\n",
       "      <td>242.500000</td>\n",
       "      <td>4.100000</td>\n",
       "      <td>1018.350000</td>\n",
       "      <td>67.100000</td>\n",
       "    </tr>\n",
       "    <tr>\n",
       "      <th>75%</th>\n",
       "      <td>22.915000</td>\n",
       "      <td>0.000000</td>\n",
       "      <td>270.000000</td>\n",
       "      <td>5.700000</td>\n",
       "      <td>1020.825000</td>\n",
       "      <td>73.380000</td>\n",
       "    </tr>\n",
       "    <tr>\n",
       "      <th>max</th>\n",
       "      <td>30.830000</td>\n",
       "      <td>21.900000</td>\n",
       "      <td>360.000000</td>\n",
       "      <td>41.700000</td>\n",
       "      <td>1031.600000</td>\n",
       "      <td>91.080000</td>\n",
       "    </tr>\n",
       "  </tbody>\n",
       "</table>\n",
       "</div>"
      ],
      "text/plain": [
       "         temp_avg        prec          wd          ws  atmos_pres_avg  \\\n",
       "count  959.000000  959.000000  959.000000  959.000000      959.000000   \n",
       "mean    21.144254    0.091971  238.932398    4.682899     1018.787122   \n",
       "std      2.538478    0.987018   53.610970    2.233377        3.515182   \n",
       "min     14.840000    0.000000   46.000000    1.000000     1001.800000   \n",
       "25%     19.060000    0.000000  220.000000    3.600000     1016.690000   \n",
       "50%     21.240000    0.000000  242.500000    4.100000     1018.350000   \n",
       "75%     22.915000    0.000000  270.000000    5.700000     1020.825000   \n",
       "max     30.830000   21.900000  360.000000   41.700000     1031.600000   \n",
       "\n",
       "               rh  \n",
       "count  959.000000  \n",
       "mean    65.270355  \n",
       "std     11.442096  \n",
       "min     16.030000  \n",
       "25%     59.610000  \n",
       "50%     67.100000  \n",
       "75%     73.380000  \n",
       "max     91.080000  "
      ]
     },
     "execution_count": 22,
     "metadata": {},
     "output_type": "execute_result"
    }
   ],
   "source": [
    "test.describe()"
   ]
  },
  {
   "cell_type": "code",
   "execution_count": 23,
   "id": "integrated-prototype",
   "metadata": {},
   "outputs": [
    {
     "name": "stdout",
     "output_type": "stream",
     "text": [
      "Training dataset shape: (3008, 6)\n",
      "Validation dataset shape: (752, 6)\n",
      "Test dataset shape: (959, 6)\n"
     ]
    }
   ],
   "source": [
    "print(\"Training dataset shape:\", train.shape)\n",
    "print(\"Validation dataset shape:\", validation.shape)\n",
    "print(\"Test dataset shape:\", test.shape)"
   ]
  },
  {
   "cell_type": "code",
   "execution_count": 24,
   "id": "fossil-wallpaper",
   "metadata": {},
   "outputs": [
    {
     "data": {
      "text/html": [
       "<div>\n",
       "<style scoped>\n",
       "    .dataframe tbody tr th:only-of-type {\n",
       "        vertical-align: middle;\n",
       "    }\n",
       "\n",
       "    .dataframe tbody tr th {\n",
       "        vertical-align: top;\n",
       "    }\n",
       "\n",
       "    .dataframe thead th {\n",
       "        text-align: right;\n",
       "    }\n",
       "</style>\n",
       "<table border=\"1\" class=\"dataframe\">\n",
       "  <thead>\n",
       "    <tr style=\"text-align: right;\">\n",
       "      <th></th>\n",
       "      <th>temp_avg</th>\n",
       "      <th>prec</th>\n",
       "      <th>wd</th>\n",
       "      <th>ws</th>\n",
       "      <th>atmos_pres_avg</th>\n",
       "      <th>rh</th>\n",
       "    </tr>\n",
       "  </thead>\n",
       "  <tbody>\n",
       "    <tr>\n",
       "      <th>temp_avg</th>\n",
       "      <td>1.000000</td>\n",
       "      <td>-0.120273</td>\n",
       "      <td>0.059542</td>\n",
       "      <td>-0.083679</td>\n",
       "      <td>-0.272722</td>\n",
       "      <td>-0.048049</td>\n",
       "    </tr>\n",
       "    <tr>\n",
       "      <th>prec</th>\n",
       "      <td>-0.120273</td>\n",
       "      <td>1.000000</td>\n",
       "      <td>0.054333</td>\n",
       "      <td>0.189451</td>\n",
       "      <td>-0.240085</td>\n",
       "      <td>0.142776</td>\n",
       "    </tr>\n",
       "    <tr>\n",
       "      <th>wd</th>\n",
       "      <td>0.059542</td>\n",
       "      <td>0.054333</td>\n",
       "      <td>1.000000</td>\n",
       "      <td>-0.002588</td>\n",
       "      <td>-0.140491</td>\n",
       "      <td>0.362044</td>\n",
       "    </tr>\n",
       "    <tr>\n",
       "      <th>ws</th>\n",
       "      <td>-0.083679</td>\n",
       "      <td>0.189451</td>\n",
       "      <td>-0.002588</td>\n",
       "      <td>1.000000</td>\n",
       "      <td>-0.131442</td>\n",
       "      <td>-0.035096</td>\n",
       "    </tr>\n",
       "    <tr>\n",
       "      <th>atmos_pres_avg</th>\n",
       "      <td>-0.272722</td>\n",
       "      <td>-0.240085</td>\n",
       "      <td>-0.140491</td>\n",
       "      <td>-0.131442</td>\n",
       "      <td>1.000000</td>\n",
       "      <td>-0.198469</td>\n",
       "    </tr>\n",
       "    <tr>\n",
       "      <th>rh</th>\n",
       "      <td>-0.048049</td>\n",
       "      <td>0.142776</td>\n",
       "      <td>0.362044</td>\n",
       "      <td>-0.035096</td>\n",
       "      <td>-0.198469</td>\n",
       "      <td>1.000000</td>\n",
       "    </tr>\n",
       "  </tbody>\n",
       "</table>\n",
       "</div>"
      ],
      "text/plain": [
       "                temp_avg      prec        wd        ws  atmos_pres_avg  \\\n",
       "temp_avg        1.000000 -0.120273  0.059542 -0.083679       -0.272722   \n",
       "prec           -0.120273  1.000000  0.054333  0.189451       -0.240085   \n",
       "wd              0.059542  0.054333  1.000000 -0.002588       -0.140491   \n",
       "ws             -0.083679  0.189451 -0.002588  1.000000       -0.131442   \n",
       "atmos_pres_avg -0.272722 -0.240085 -0.140491 -0.131442        1.000000   \n",
       "rh             -0.048049  0.142776  0.362044 -0.035096       -0.198469   \n",
       "\n",
       "                      rh  \n",
       "temp_avg       -0.048049  \n",
       "prec            0.142776  \n",
       "wd              0.362044  \n",
       "ws             -0.035096  \n",
       "atmos_pres_avg -0.198469  \n",
       "rh              1.000000  "
      ]
     },
     "execution_count": 24,
     "metadata": {},
     "output_type": "execute_result"
    }
   ],
   "source": [
    "train.corr()"
   ]
  },
  {
   "cell_type": "code",
   "execution_count": 25,
   "id": "partial-angel",
   "metadata": {},
   "outputs": [
    {
     "data": {
      "text/html": [
       "<div>\n",
       "<style scoped>\n",
       "    .dataframe tbody tr th:only-of-type {\n",
       "        vertical-align: middle;\n",
       "    }\n",
       "\n",
       "    .dataframe tbody tr th {\n",
       "        vertical-align: top;\n",
       "    }\n",
       "\n",
       "    .dataframe thead th {\n",
       "        text-align: right;\n",
       "    }\n",
       "</style>\n",
       "<table border=\"1\" class=\"dataframe\">\n",
       "  <thead>\n",
       "    <tr style=\"text-align: right;\">\n",
       "      <th></th>\n",
       "      <th>temp_avg</th>\n",
       "      <th>prec</th>\n",
       "      <th>wd</th>\n",
       "      <th>ws</th>\n",
       "      <th>atmos_pres_avg</th>\n",
       "      <th>rh</th>\n",
       "    </tr>\n",
       "  </thead>\n",
       "  <tbody>\n",
       "    <tr>\n",
       "      <th>temp_avg</th>\n",
       "      <td>1.000000</td>\n",
       "      <td>-0.103608</td>\n",
       "      <td>-0.081037</td>\n",
       "      <td>-0.142228</td>\n",
       "      <td>-0.374335</td>\n",
       "      <td>-0.049850</td>\n",
       "    </tr>\n",
       "    <tr>\n",
       "      <th>prec</th>\n",
       "      <td>-0.103608</td>\n",
       "      <td>1.000000</td>\n",
       "      <td>0.023900</td>\n",
       "      <td>0.042214</td>\n",
       "      <td>-0.239147</td>\n",
       "      <td>0.104439</td>\n",
       "    </tr>\n",
       "    <tr>\n",
       "      <th>wd</th>\n",
       "      <td>-0.081037</td>\n",
       "      <td>0.023900</td>\n",
       "      <td>1.000000</td>\n",
       "      <td>-0.016725</td>\n",
       "      <td>-0.073036</td>\n",
       "      <td>0.187872</td>\n",
       "    </tr>\n",
       "    <tr>\n",
       "      <th>ws</th>\n",
       "      <td>-0.142228</td>\n",
       "      <td>0.042214</td>\n",
       "      <td>-0.016725</td>\n",
       "      <td>1.000000</td>\n",
       "      <td>0.042293</td>\n",
       "      <td>-0.045449</td>\n",
       "    </tr>\n",
       "    <tr>\n",
       "      <th>atmos_pres_avg</th>\n",
       "      <td>-0.374335</td>\n",
       "      <td>-0.239147</td>\n",
       "      <td>-0.073036</td>\n",
       "      <td>0.042293</td>\n",
       "      <td>1.000000</td>\n",
       "      <td>-0.279648</td>\n",
       "    </tr>\n",
       "    <tr>\n",
       "      <th>rh</th>\n",
       "      <td>-0.049850</td>\n",
       "      <td>0.104439</td>\n",
       "      <td>0.187872</td>\n",
       "      <td>-0.045449</td>\n",
       "      <td>-0.279648</td>\n",
       "      <td>1.000000</td>\n",
       "    </tr>\n",
       "  </tbody>\n",
       "</table>\n",
       "</div>"
      ],
      "text/plain": [
       "                temp_avg      prec        wd        ws  atmos_pres_avg  \\\n",
       "temp_avg        1.000000 -0.103608 -0.081037 -0.142228       -0.374335   \n",
       "prec           -0.103608  1.000000  0.023900  0.042214       -0.239147   \n",
       "wd             -0.081037  0.023900  1.000000 -0.016725       -0.073036   \n",
       "ws             -0.142228  0.042214 -0.016725  1.000000        0.042293   \n",
       "atmos_pres_avg -0.374335 -0.239147 -0.073036  0.042293        1.000000   \n",
       "rh             -0.049850  0.104439  0.187872 -0.045449       -0.279648   \n",
       "\n",
       "                      rh  \n",
       "temp_avg       -0.049850  \n",
       "prec            0.104439  \n",
       "wd              0.187872  \n",
       "ws             -0.045449  \n",
       "atmos_pres_avg -0.279648  \n",
       "rh              1.000000  "
      ]
     },
     "execution_count": 25,
     "metadata": {},
     "output_type": "execute_result"
    }
   ],
   "source": [
    "test.corr()"
   ]
  },
  {
   "cell_type": "code",
   "execution_count": 26,
   "id": "respected-worth",
   "metadata": {},
   "outputs": [
    {
     "data": {
      "image/png": "[encoded data removed]",
      "text/plain": [
       "<Figure size 800x800 with 2 Axes>"
      ]
     },
     "metadata": {
      "needs_background": "light"
     },
     "output_type": "display_data"
    }
   ],
   "source": [
    "figure = plt.figure(figsize = (8,8), dpi = 100)\n",
    "ax = figure.add_subplot(111)\n",
    "cax = ax.matshow(train.corr(), interpolation = 'nearest')\n",
    "figure.colorbar(cax)\n",
    "plt.show()"
   ]
  },
  {
   "cell_type": "markdown",
   "id": "minus-traveler",
   "metadata": {},
   "source": [
    "## Data Normalization  "
   ]
  },
  {
   "cell_type": "code",
   "execution_count": 27,
   "id": "functioning-doctor",
   "metadata": {},
   "outputs": [
    {
     "data": {
      "text/plain": [
       "['scaler_data']"
      ]
     },
     "execution_count": 27,
     "metadata": {},
     "output_type": "execute_result"
    }
   ],
   "source": [
    "scaler = MinMaxScaler()\n",
    "x_train = scaler.fit_transform(train)\n",
    "x_test = scaler.transform(test)\n",
    "x_validation = scaler.transform(validation)\n",
    "scaler_filename = 'scaler_data'\n",
    "joblib.dump(scaler, scaler_filename)"
   ]
  },
  {
   "cell_type": "code",
   "execution_count": 28,
   "id": "third-finish",
   "metadata": {},
   "outputs": [
    {
     "name": "stdout",
     "output_type": "stream",
     "text": [
      "(3008, 6)\n",
      "(959, 6)\n",
      "(752, 6)\n"
     ]
    }
   ],
   "source": [
    "print(x_train.shape)\n",
    "print(x_test.shape)\n",
    "print(x_validation.shape)"
   ]
  },
  {
   "cell_type": "code",
   "execution_count": 29,
   "id": "decimal-blair",
   "metadata": {},
   "outputs": [],
   "source": [
    "x_train = x_train.reshape(x_train.shape[0], 1, x_train.shape[1])\n",
    "x_test = x_test.reshape(x_test.shape[0], 1, x_test.shape[1])\n",
    "x_validation = x_validation.reshape(x_validation.shape[0], 1, x_validation.shape[1])"
   ]
  },
  {
   "cell_type": "code",
   "execution_count": 30,
   "id": "protecting-virus",
   "metadata": {},
   "outputs": [
    {
     "name": "stdout",
     "output_type": "stream",
     "text": [
      "(3008, 1, 6)\n",
      "(959, 1, 6)\n",
      "(752, 1, 6)\n"
     ]
    }
   ],
   "source": [
    "print(x_train.shape)\n",
    "print(x_test.shape)\n",
    "print(x_validation.shape)"
   ]
  },
  {
   "cell_type": "code",
   "execution_count": 31,
   "id": "worthy-feature",
   "metadata": {},
   "outputs": [],
   "source": [
    "def autoencoder_model_GRU(X):\n",
    "    inputs = Input(shape = (X.shape[1], X.shape[2]))\n",
    "    L1 = GRU(32, activation = 'relu', return_sequences = True)(inputs)\n",
    "    L2 = GRU(4, activation = 'relu', return_sequences = False)(L1)\n",
    "    L3 = RepeatVector(X.shape[1])(L2)\n",
    "    L4 = GRU(4, activation = 'relu', return_sequences = True)(L3)\n",
    "    L5 = GRU(32, activation = 'relu', return_sequences = True)(L4)\n",
    "    output = TimeDistributed(Dense(X.shape[2]))(L5)\n",
    "    model = Model(inputs = inputs, outputs = output)\n",
    "    return model"
   ]
  },
  {
   "cell_type": "code",
   "execution_count": 32,
   "id": "working-species",
   "metadata": {},
   "outputs": [
    {
     "name": "stdout",
     "output_type": "stream",
     "text": [
      "Model: \"model\"\n",
      "_________________________________________________________________\n",
      "Layer (type)                 Output Shape              Param #   \n",
      "=================================================================\n",
      "input_1 (InputLayer)         [(None, 1, 6)]            0         \n",
      "_________________________________________________________________\n",
      "gru (GRU)                    (None, 1, 32)             3840      \n",
      "_________________________________________________________________\n",
      "gru_1 (GRU)                  (None, 4)                 456       \n",
      "_________________________________________________________________\n",
      "repeat_vector (RepeatVector) (None, 1, 4)              0         \n",
      "_________________________________________________________________\n",
      "gru_2 (GRU)                  (None, 1, 4)              120       \n",
      "_________________________________________________________________\n",
      "gru_3 (GRU)                  (None, 1, 32)             3648      \n",
      "_________________________________________________________________\n",
      "time_distributed (TimeDistri (None, 1, 6)              198       \n",
      "=================================================================\n",
      "Total params: 8,262\n",
      "Trainable params: 8,262\n",
      "Non-trainable params: 0\n",
      "_________________________________________________________________\n"
     ]
    }
   ],
   "source": [
    "model = autoencoder_model_GRU(x_train)\n",
    "model.compile(optimizer = 'adamax', loss = 'mae', metrics = ['mae', 'mse', 'mape', 'msle', 'cosine_proximity'])\n",
    "model.summary()"
   ]
  },
  {
   "cell_type": "code",
   "execution_count": 33,
   "id": "worse-ocean",
   "metadata": {},
   "outputs": [
    {
     "name": "stdout",
     "output_type": "stream",
     "text": [
      "Fit model on training data...\n",
      "Time to training model: 305.48947644233704\n"
     ]
    }
   ],
   "source": [
    "dataframe_train = DataFrame()\n",
    "dataframe_validation = DataFrame()\n",
    "\n",
    "early_stopping_callback = EarlyStopping(monitor='val_loss', mode='min', verbose=1, patience=50)\n",
    "\n",
    "for i in range(1):\n",
    "    print('Fit model on training data...')\n",
    "    start = time.time()\n",
    "    epochs = 300\n",
    "    batch_size = 32\n",
    "    \n",
    "    history = model.fit(x_train, x_train, epochs = epochs, batch_size = batch_size, validation_data = (x_validation, x_validation), verbose = 0, callbacks=[early_stopping_callback]).history\n",
    "    \n",
    "    end = time.time()\n",
    "    \n",
    "    dataframe_train[str(i)] = history['loss']\n",
    "    dataframe_validation[str(i)] = history['val_loss']\n",
    "    \n",
    "    print('Time to training model:', end - start)"
   ]
  },
  {
   "cell_type": "code",
   "execution_count": 34,
   "id": "competitive-delicious",
   "metadata": {},
   "outputs": [
    {
     "name": "stdout",
     "output_type": "stream",
     "text": [
      "Best MSE on validation set = 0.23092974722385406\n"
     ]
    }
   ],
   "source": [
    "print('Best MSE on validation set =', max(history['val_mae']))"
   ]
  },
  {
   "cell_type": "code",
   "execution_count": 35,
   "id": "discrete-roots",
   "metadata": {},
   "outputs": [
    {
     "name": "stdout",
     "output_type": "stream",
     "text": [
      "loss 0.03570276498794556\n",
      "mae 0.03570276498794556\n",
      "mse 0.005313219036906958\n",
      "mape 160421.78125\n",
      "msle 0.0026694796979427338\n",
      "cosine_proximity 0.9895715117454529\n"
     ]
    }
   ],
   "source": [
    "loss = model.evaluate(x_train, x_train, verbose = 0)\n",
    "for name, value in zip(model.metrics_names, loss): \n",
    "    print(name, value)"
   ]
  },
  {
   "cell_type": "code",
   "execution_count": 36,
   "id": "municipal-hacker",
   "metadata": {},
   "outputs": [
    {
     "data": {
      "image/png": "[encoded data removed]",
      "text/plain": [
       "<Figure size 1120x480 with 1 Axes>"
      ]
     },
     "metadata": {
      "needs_background": "light"
     },
     "output_type": "display_data"
    }
   ],
   "source": [
    "figure, ax = plt.subplots(figsize = (14, 6), dpi = 80)\n",
    "ax.plot(history['loss'], 'b', label = 'Train', linewidth = 2)\n",
    "ax.plot(history['val_loss'], 'r', label = 'Validation', linewidth = 2)\n",
    "ax.set_title('Model Loss', fontsize = 16)\n",
    "ax.set_ylabel('Loss (mae)')\n",
    "ax.set_xlabel('Epoch')\n",
    "ax.legend(loc = 'upper right')\n",
    "plt.show()"
   ]
  },
  {
   "cell_type": "code",
   "execution_count": 37,
   "id": "written-failure",
   "metadata": {},
   "outputs": [
    {
     "data": {
      "image/png": "[encoded data removed]",
      "text/plain": [
       "<Figure size 1120x480 with 1 Axes>"
      ]
     },
     "metadata": {
      "needs_background": "light"
     },
     "output_type": "display_data"
    }
   ],
   "source": [
    "fig, ax = plt.subplots(figsize = (14, 6), dpi = 80)\n",
    "ax.plot(history['mse'], 'b', label = 'Train', linewidth = 2)\n",
    "ax.plot(history['val_mse'], 'r', label = 'Validation', linewidth = 2)\n",
    "ax.set_title('Training MSE VS Validation MSE')\n",
    "ax.set_ylabel('mse')\n",
    "ax.set_xlabel('Epoch')\n",
    "ax.legend(loc = 'upper right')\n",
    "plt.show()"
   ]
  },
  {
   "cell_type": "code",
   "execution_count": 38,
   "id": "relative-likelihood",
   "metadata": {},
   "outputs": [
    {
     "data": {
      "image/png": "[encoded data removed]",
      "text/plain": [
       "<Figure size 1120x480 with 1 Axes>"
      ]
     },
     "metadata": {
      "needs_background": "light"
     },
     "output_type": "display_data"
    }
   ],
   "source": [
    "fig, ax = plt.subplots(figsize = (14, 6), dpi = 80)\n",
    "ax.plot(history['mse'], 'r--', label = 'mse')\n",
    "ax.plot(history['mae'], 'b', label = 'mae')\n",
    "ax.legend(loc = 'upper right')\n",
    "plt.show()"
   ]
  },
  {
   "cell_type": "markdown",
   "id": "environmental-possession",
   "metadata": {},
   "source": [
    "## Distribution of Loss Function "
   ]
  },
  {
   "cell_type": "code",
   "execution_count": 61,
   "id": "afraid-contrast",
   "metadata": {},
   "outputs": [],
   "source": [
    "x_pred = model.predict(x_train)\n",
    "x_pred = x_pred.reshape(x_pred.shape[0], x_pred.shape[2])\n",
    "x_pred = pd.DataFrame(x_pred, columns = train.columns)\n",
    "x_pred.index = train.index"
   ]
  },
  {
   "cell_type": "code",
   "execution_count": 62,
   "id": "painful-catalyst",
   "metadata": {},
   "outputs": [
    {
     "name": "stderr",
     "output_type": "stream",
     "text": [
      "D:\\TFG\\Environment\\TFG\\lib\\site-packages\\seaborn\\distributions.py:2557: FutureWarning: `distplot` is a deprecated function and will be removed in a future version. Please adapt your code to use either `displot` (a figure-level function with similar flexibility) or `histplot` (an axes-level function for histograms).\n",
      "  warnings.warn(msg, FutureWarning)\n"
     ]
    },
    {
     "data": {
      "text/plain": [
       "(0.0, 0.4)"
      ]
     },
     "execution_count": 62,
     "metadata": {},
     "output_type": "execute_result"
    },
    {
     "data": {
      "image/png": "[encoded data removed]",
      "text/plain": [
       "<Figure size 1400x600 with 1 Axes>"
      ]
     },
     "metadata": {
      "needs_background": "light"
     },
     "output_type": "display_data"
    }
   ],
   "source": [
    "scored = pd.DataFrame(index = train.index)\n",
    "Xtrain = x_train.reshape(x_train.shape[0], x_train.shape[2])\n",
    "scored['Loss_mae'] = np.mean(np.abs(x_pred - Xtrain), axis = 1)\n",
    "plt.figure(figsize = (14,6), dpi = 100)\n",
    "plt.title('Loss Distribution', fontsize = 16)\n",
    "plt.axvline(0.09925221707013354, ls = '--', color = 'r')\n",
    "plt.annotate('Threshold = 0.09925221707013354',\n",
    "            xy = (0.06, 30), xycoords = 'data', fontsize = 14,\n",
    "            horizontalalignment = 'center', verticalalignment = 'bottom')\n",
    "sns.distplot(scored['Loss_mae'], bins = 40, kde = True, color = 'blue')\n",
    "plt.xlim([0.0, .4])"
   ]
  },
  {
   "cell_type": "markdown",
   "id": "cordless-found",
   "metadata": {},
   "source": [
    "## Test Predictions "
   ]
  },
  {
   "cell_type": "code",
   "execution_count": 63,
   "id": "elementary-following",
   "metadata": {},
   "outputs": [],
   "source": [
    "x_pred = model.predict(x_test)\n",
    "x_pred = x_pred.reshape(x_pred.shape[0], x_pred.shape[2])\n",
    "x_pred = pd.DataFrame(x_pred, columns = test.columns)\n",
    "x_pred.index = test.index"
   ]
  },
  {
   "cell_type": "code",
   "execution_count": 64,
   "id": "premium-regard",
   "metadata": {},
   "outputs": [
    {
     "data": {
      "text/html": [
       "<div>\n",
       "<style scoped>\n",
       "    .dataframe tbody tr th:only-of-type {\n",
       "        vertical-align: middle;\n",
       "    }\n",
       "\n",
       "    .dataframe tbody tr th {\n",
       "        vertical-align: top;\n",
       "    }\n",
       "\n",
       "    .dataframe thead th {\n",
       "        text-align: right;\n",
       "    }\n",
       "</style>\n",
       "<table border=\"1\" class=\"dataframe\">\n",
       "  <thead>\n",
       "    <tr style=\"text-align: right;\">\n",
       "      <th></th>\n",
       "      <th>Reconstruction_error</th>\n",
       "      <th>True_class</th>\n",
       "    </tr>\n",
       "  </thead>\n",
       "  <tbody>\n",
       "    <tr>\n",
       "      <th>3832</th>\n",
       "      <td>0.004233</td>\n",
       "      <td>0</td>\n",
       "    </tr>\n",
       "    <tr>\n",
       "      <th>3833</th>\n",
       "      <td>0.007994</td>\n",
       "      <td>0</td>\n",
       "    </tr>\n",
       "    <tr>\n",
       "      <th>3834</th>\n",
       "      <td>0.005861</td>\n",
       "      <td>0</td>\n",
       "    </tr>\n",
       "    <tr>\n",
       "      <th>3835</th>\n",
       "      <td>0.005049</td>\n",
       "      <td>0</td>\n",
       "    </tr>\n",
       "    <tr>\n",
       "      <th>3836</th>\n",
       "      <td>0.003642</td>\n",
       "      <td>0</td>\n",
       "    </tr>\n",
       "  </tbody>\n",
       "</table>\n",
       "</div>"
      ],
      "text/plain": [
       "      Reconstruction_error  True_class\n",
       "3832              0.004233           0\n",
       "3833              0.007994           0\n",
       "3834              0.005861           0\n",
       "3835              0.005049           0\n",
       "3836              0.003642           0"
      ]
     },
     "execution_count": 64,
     "metadata": {},
     "output_type": "execute_result"
    }
   ],
   "source": [
    "error_dataframe = pd.DataFrame(index = test.index)\n",
    "Xtest = x_test.reshape(x_test.shape[0], x_test.shape[2])\n",
    "error_dataframe['Reconstruction_error'] = np.mean(np.power(x_pred - Xtest, 2), axis = 1)\n",
    "error_dataframe['True_class'] = test_fma\n",
    "error_dataframe.head()"
   ]
  },
  {
   "cell_type": "code",
   "execution_count": 65,
   "id": "unlikely-powell",
   "metadata": {},
   "outputs": [
    {
     "data": {
      "image/png": "[encoded data removed]",
      "text/plain": [
       "<Figure size 1280x480 with 1 Axes>"
      ]
     },
     "metadata": {
      "needs_background": "light"
     },
     "output_type": "display_data"
    }
   ],
   "source": [
    "precision, recall, threshold = precision_recall_curve(error_dataframe.True_class, error_dataframe.Reconstruction_error)\n",
    "fig, ax = plt.subplots(figsize = (16, 6), dpi = 80)\n",
    "ax.plot(threshold, precision[1:], label = 'Precision', linewidth = 2)\n",
    "ax.plot(threshold, recall[1:], label = 'Recall', linewidth = 2)\n",
    "ax.set_title('Precision and Recall for diferent Threshold values', fontsize = 16)\n",
    "ax.set_xlabel('Threshold')\n",
    "ax.set_ylabel('Precision/Recall')\n",
    "ax.set_xlim([0.0, 0.2])\n",
    "ax.axvline(0.09925221707013354, ls = '--', color = 'r')\n",
    "ax.legend(loc = 'lower right')\n",
    "plt.show()"
   ]
  },
  {
   "cell_type": "markdown",
   "id": "interstate-dallas",
   "metadata": {},
   "source": [
    "### ROC Curve Check "
   ]
  },
  {
   "cell_type": "code",
   "execution_count": 66,
   "id": "vertical-church",
   "metadata": {},
   "outputs": [],
   "source": [
    "false_pos_rate, true_pos_rate, threshold = roc_curve(error_dataframe.True_class, error_dataframe.Reconstruction_error)\n",
    "roc_auc = auc(false_pos_rate, true_pos_rate)"
   ]
  },
  {
   "cell_type": "code",
   "execution_count": 67,
   "id": "accredited-secret",
   "metadata": {},
   "outputs": [
    {
     "data": {
      "image/png": "[encoded data removed]",
      "text/plain": [
       "<Figure size 1280x480 with 1 Axes>"
      ]
     },
     "metadata": {
      "needs_background": "light"
     },
     "output_type": "display_data"
    }
   ],
   "source": [
    "fig, ax = plt.subplots(figsize = (16, 6), dpi = 80)\n",
    "ax.plot(false_pos_rate, true_pos_rate, linewidth = 1, label = 'AUC = %0.3f'% roc_auc)\n",
    "ax.plot([0,1], [0,1], linewidth = 3)\n",
    "ax.set_title('Receiver Operating Characteristic Curve (ROC)')\n",
    "ax.set_ylabel('True Positive Rate')\n",
    "ax.set_xlabel('False Positive Rate')\n",
    "ax.set_xlim([-0.01, 1])\n",
    "ax.set_ylim([0, 1.01])\n",
    "ax.legend(loc = 'lower right')\n",
    "plt.show()"
   ]
  },
  {
   "cell_type": "markdown",
   "id": "fluid-puppy",
   "metadata": {},
   "source": [
    "### Recall VS Precision Thresholding "
   ]
  },
  {
   "cell_type": "code",
   "execution_count": 68,
   "id": "boring-communist",
   "metadata": {},
   "outputs": [
    {
     "data": {
      "image/png": "[encoded data removed]",
      "text/plain": [
       "<Figure size 1280x480 with 1 Axes>"
      ]
     },
     "metadata": {
      "needs_background": "light"
     },
     "output_type": "display_data"
    }
   ],
   "source": [
    "precision, recall, threshold = precision_recall_curve(error_dataframe.True_class, error_dataframe.Reconstruction_error)\n",
    "fig, ax = plt.subplots(figsize = (16, 6), dpi = 80)\n",
    "ax.plot(recall, precision, linewidth = 1, label = 'Precision - Recall Curve' )\n",
    "ax.set_title('Recall VS Precision')\n",
    "ax.set_ylabel('Precision')\n",
    "ax.set_xlabel('Recall')\n",
    "ax.legend(loc = 'lower left')\n",
    "plt.show()"
   ]
  },
  {
   "cell_type": "markdown",
   "id": "surrounded-malpractice",
   "metadata": {},
   "source": [
    "### Reconstruction Error VS Threshold Check "
   ]
  },
  {
   "cell_type": "code",
   "execution_count": 69,
   "id": "bronze-florence",
   "metadata": {},
   "outputs": [],
   "source": [
    "threshold_fixed = 0.09925221707013354\n",
    "groups = error_dataframe.groupby('True_class')"
   ]
  },
  {
   "cell_type": "code",
   "execution_count": 70,
   "id": "chemical-township",
   "metadata": {},
   "outputs": [
    {
     "data": {
      "image/png": "[encoded data removed]",
      "text/plain": [
       "<Figure size 1280x800 with 1 Axes>"
      ]
     },
     "metadata": {
      "needs_background": "light"
     },
     "output_type": "display_data"
    }
   ],
   "source": [
    "fig, ax = plt.subplots(figsize = (16, 10), dpi = 80)\n",
    "\n",
    "for name, group in groups:\n",
    "    ax.plot(group.index, group.Reconstruction_error, marker = 'o', ms = 3.5, linestyle = '', label = 'FMA' if name == 1 else 'Normal')\n",
    "\n",
    "ax.hlines(threshold_fixed, ax.get_xlim()[0], ax.get_xlim()[1], colors = 'r', zorder = 100, label = 'Threshold')\n",
    "ax.set_title('Reconstruction Error for different classes')\n",
    "ax.set_ylabel('Reconstruction Error')\n",
    "ax.set_xlabel('Data Point Index')\n",
    "ax.legend(loc = 'upper right')\n",
    "plt.show()"
   ]
  },
  {
   "cell_type": "markdown",
   "id": "amateur-popularity",
   "metadata": {},
   "source": [
    "### Confusion Matrix"
   ]
  },
  {
   "cell_type": "code",
   "execution_count": 71,
   "id": "described-secretariat",
   "metadata": {},
   "outputs": [],
   "source": [
    "pred_y = [1 if error > threshold_fixed else 0 for error in error_dataframe.Reconstruction_error.values]"
   ]
  },
  {
   "cell_type": "code",
   "execution_count": 72,
   "id": "accepting-homeless",
   "metadata": {},
   "outputs": [
    {
     "data": {
      "image/png": "[encoded data removed]",
      "text/plain": [
       "<Figure size 800x800 with 2 Axes>"
      ]
     },
     "metadata": {
      "needs_background": "light"
     },
     "output_type": "display_data"
    }
   ],
   "source": [
    "matrix = confusion_matrix(error_dataframe.True_class, pred_y)\n",
    "fig, ax = plt.subplots(figsize = (8, 8), dpi = 100)\n",
    "sns.heatmap(matrix, xticklabels = LABELS, yticklabels = LABELS, annot = True, fmt = 'd')\n",
    "ax.set_title('Confusion Matrix')\n",
    "ax.set_ylabel('True Class')\n",
    "ax.set_xlabel('Predicted Class')\n",
    "plt.show()"
   ]
  },
  {
   "cell_type": "markdown",
   "id": "caroline-armor",
   "metadata": {},
   "source": [
    "### Reconstruction Error - Test Set"
   ]
  },
  {
   "cell_type": "code",
   "execution_count": 73,
   "id": "instant-tribe",
   "metadata": {},
   "outputs": [
    {
     "data": {
      "image/png": "[encoded data removed]",
      "text/plain": [
       "<Figure size 1280x640 with 1 Axes>"
      ]
     },
     "metadata": {
      "needs_background": "light"
     },
     "output_type": "display_data"
    }
   ],
   "source": [
    "fig, ax = plt.subplots(figsize = (16, 8), dpi = 80)\n",
    "sns.kdeplot(error_dataframe.Reconstruction_error[error_dataframe.True_class == 0], label = 'Normal', shade = True, clip = (0, 10))\n",
    "sns.kdeplot(error_dataframe.Reconstruction_error[error_dataframe.True_class == 1], label = 'Anomaly', shade = True, clip = (0, 10))\n",
    "ax.set_title('Reconstruction Error - Test Set')\n",
    "ax.set_xlim([-0.001, 0.04])\n",
    "ax.set_ylim([0, 190])\n",
    "ax.set_xlabel('Reconstruction Error')\n",
    "ax.set_ylabel('')\n",
    "ax.legend(loc = 'upper right')\n",
    "plt.show()"
   ]
  },
  {
   "cell_type": "markdown",
   "id": "coral-strand",
   "metadata": {},
   "source": [
    "## Thresholds "
   ]
  },
  {
   "cell_type": "markdown",
   "id": "prepared-tuner",
   "metadata": {},
   "source": [
    "### Threshold with Max  "
   ]
  },
  {
   "cell_type": "code",
   "execution_count": 74,
   "id": "cognitive-tobago",
   "metadata": {},
   "outputs": [
    {
     "name": "stdout",
     "output_type": "stream",
     "text": [
      "Reconstruction error threshold with max:  0.9982293006032705\n"
     ]
    }
   ],
   "source": [
    "x_train_pred = model.predict(x_train)\n",
    "train_loss = np.mean(np.abs(x_train_pred - x_train), axis = 1)\n",
    "threshold_max = np.max(train_loss)\n",
    "print(\"Reconstruction error threshold with max: \", threshold_max)"
   ]
  },
  {
   "cell_type": "markdown",
   "id": "mathematical-encounter",
   "metadata": {},
   "source": [
    "### Threshold with Mean and Std"
   ]
  },
  {
   "cell_type": "code",
   "execution_count": 75,
   "id": "hearing-david",
   "metadata": {},
   "outputs": [
    {
     "name": "stdout",
     "output_type": "stream",
     "text": [
      "Reconstruction error threshold with mean and std:  0.09925221707013354\n"
     ]
    }
   ],
   "source": [
    "x_train_pred = model.predict(x_train)\n",
    "train_loss = np.mean(np.abs(x_train_pred - x_train), axis = 1)\n",
    "threshold_mean_std = np.mean(train_loss) + np.std(train_loss)\n",
    "print(\"Reconstruction error threshold with mean and std: \", threshold_mean_std)"
   ]
  },
  {
   "cell_type": "markdown",
   "id": "hidden-force",
   "metadata": {},
   "source": [
    "### Threshold Precision ∩ Recall"
   ]
  },
  {
   "cell_type": "code",
   "execution_count": null,
   "id": "offshore-sacrifice",
   "metadata": {},
   "outputs": [],
   "source": [
    "def intersection_point():\n",
    "    precision_points = np.array([[threshold[i],precision[i]] for i in range(len(precision[1:]))])\n",
    "    recall_points = np.array([[threshold[i],recall[i]] for i in range(len(recall[1:]))])\n",
    "    nrows, ncols = precision_points.shape\n",
    "    dtype = {'names': ['f{}'.format(i) for i in range(ncols)], 'formats': ncols * [precision_points.dtype]}\n",
    "    intersection = np.intersect1d(precision_points.view(dtype), recall_points.view(dtype))\n",
    "    return intersection.view(precision_points.dtype).reshape(-1, ncols)"
   ]
  },
  {
   "cell_type": "code",
   "execution_count": null,
   "id": "indoor-words",
   "metadata": {},
   "outputs": [],
   "source": [
    "threshold_precision_recall = intersection_point()[0][0]"
   ]
  },
  {
   "cell_type": "code",
   "execution_count": null,
   "id": "vanilla-heart",
   "metadata": {},
   "outputs": [],
   "source": [
    "def print_stats(ytest, ypred):\n",
    "    print(\"Accuracy: {:.5f}, Cohen's Kappa Score: {:.5f}\".format(\n",
    "        accuracy_score(ytest, ypred), \n",
    "        cohen_kappa_score(ytest, ypred, weights=\"quadratic\")))\n",
    "    ll = log_loss(ytest, ypred)\n",
    "    print(\"Log Loss: {}\\n\".format(ll))\n",
    "    print(\"Confusion Matrix:\")\n",
    "    print(confusion_matrix(ytest, ypred))\n",
    "    print(\"Classification Report:\")\n",
    "    print(classification_report(ytest, ypred, target_names = LABELS))\n",
    "    print(\"Fbeta Score(0.5):{:.3f}\".format(fbeta_score(ytest, ypred, average=\"micro\", beta=0.5)))"
   ]
  },
  {
   "cell_type": "code",
   "execution_count": null,
   "id": "controversial-amazon",
   "metadata": {},
   "outputs": [],
   "source": [
    "threshold_fixed = [threshold_max, threshold_mean_std, threshold_precision_recall]\n",
    "\n",
    "print('------------------------------------------------------------------------------')\n",
    "\n",
    "for threshold in threshold_fixed: \n",
    "    pred_y = [1 if error > threshold else 0 for error in error_dataframe.Reconstruction_error.values]\n",
    "    matrix = confusion_matrix(error_dataframe.True_class, pred_y)\n",
    "    \n",
    "    precision = precision_score(error_dataframe.True_class, pred_y, average = 'weighted')\n",
    "    recall = recall_score(error_dataframe.True_class, pred_y, average = 'weighted')\n",
    "    fbeta = fbeta_score(error_dataframe.True_class, pred_y, beta = 0.5)\n",
    "    \n",
    "    print('Result:\\n')\n",
    "    print('Precision Score = %.3f\\nRecall Score = %.3f\\nFbeta Score = %.3f\\n' % (precision, recall, fbeta))\n",
    "    print('Threshold fixed = %.3f' % threshold)\n",
    "    print_stats(error_dataframe.True_class, pred_y)\n",
    "    print('------------------------------------------------------------------------------')"
   ]
  },
  {
   "cell_type": "markdown",
   "id": "specific-processing",
   "metadata": {},
   "source": [
    "### Historic "
   ]
  },
  {
   "cell_type": "code",
   "execution_count": 81,
   "id": "painted-blank",
   "metadata": {},
   "outputs": [],
   "source": [
    "#model.save(\"../../Historical/LaGomera/GRU_GOMERA.h5\")"
   ]
  },
  {
   "cell_type": "code",
   "execution_count": 82,
   "id": "tender-rainbow",
   "metadata": {},
   "outputs": [],
   "source": [
    "#with open('../../Historical/LaGomera/GRU_GOMERA.txt', 'wb') as file_pi:\n",
    "#    pickle.dump(history, file_pi)"
   ]
  }
 ],
 "metadata": {
  "kernelspec": {
   "display_name": "TFG",
   "language": "python",
   "name": "tfg"
  },
  "language_info": {
   "codemirror_mode": {
    "name": "ipython",
    "version": 3
   },
   "file_extension": ".py",
   "mimetype": "text/x-python",
   "name": "python",
   "nbconvert_exporter": "python",
   "pygments_lexer": "ipython3",
   "version": "3.7.9"
  }
 },
 "nbformat": 4,
 "nbformat_minor": 5
}
